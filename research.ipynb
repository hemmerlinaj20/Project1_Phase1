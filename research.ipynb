{
 "cells": [
  {
   "cell_type": "markdown",
   "metadata": {},
   "source": [
    "Alex Hemmerlin\n",
    "Comp 435 Project 1\n",
    "Data Exploration\n",
    "English Handwritten Characters: https://www.kaggle.com/datasets/dhruvildave/english-handwritten-characters-dataset"
   ]
  },
  {
   "cell_type": "markdown",
   "metadata": {},
   "source": [
    "About the Dataset:\n",
    "The dataset contains 3,410 unique images of handwritten English characters. The characters are lowercase alphabetical: a-z, uppercase alphabetical: A-Z, and numeric digits: 0-9. This results in 62 classes (26+26+10) with 55 images of each class represented in the dataset.\n",
    "\n",
    "The class label is the character that is represented in the image (0-9, A-Z, a-z). The feature is the image which is a 1200x900 png image."
   ]
  },
  {
   "cell_type": "code",
   "execution_count": 114,
   "metadata": {},
   "outputs": [],
   "source": [
    "# ***MY CODE*** Denotes code that I have written\n",
    "# ***[WHERE THE CODE CAME FROM]*** Denotes code that I copied from the place specified\n",
    "# ***[WHERE THE CODE CAME FORM] MODIFIED BY ME*** Denotes code that was copied and modified"
   ]
  },
  {
   "cell_type": "code",
   "execution_count": 115,
   "metadata": {},
   "outputs": [],
   "source": [
    "# @InProceedings{deCampos09,\n",
    "#   author    = \"de Campos, T.~E. and Babu, B.~R. and Varma, M.\",\n",
    "#   title     = \"Character recognition in natural images\",\n",
    "#   booktitle = \"Proceedings of the International Conference on Computer\n",
    "#   Vision Theory and Applications, Lisbon, Portugal\",\n",
    "#   month     = \"February\",\n",
    "#   year      = \"2009\",\n",
    "# }"
   ]
  },
  {
   "cell_type": "code",
   "execution_count": null,
   "metadata": {},
   "outputs": [],
   "source": [
    "# TODO: Ideas for data exploration:\n",
    "# 1. Write code to lower the resolution of the images\n",
    "# 2. Write code to map the labels to integer values\n",
    "# 3. Write code to plot a few random images with labels"
   ]
  },
  {
   "cell_type": "code",
   "execution_count": null,
   "metadata": {},
   "outputs": [],
   "source": [
    "# ***MY CODE***\n",
    "import pandas as pd\n",
    "import numpy as np\n",
    "from PIL import Image\n",
    "import matplotlib.pyplot as plt\n",
    "\n",
    "DATASET_PATH: str = 'dataset/english.csv'   # path to the csv file\n",
    "BASE_IMAGE_PATH: str = 'dataset/'           # path to the Img folder (concat the image string in the csv to the end to get the path to the image)\n",
    "\n",
    "# TODO: Change to False to not display some example images (they are large and take up a lot of screen space)\n",
    "PRINT_EXAMPLES: bool = False"
   ]
  },
  {
   "cell_type": "code",
   "execution_count": null,
   "metadata": {},
   "outputs": [
    {
     "name": "stdout",
     "output_type": "stream",
     "text": [
      "                image label\n",
      "0  Img/img001-001.png     0\n",
      "1  Img/img001-002.png     0\n",
      "2  Img/img001-003.png     0\n",
      "3  Img/img001-004.png     0\n",
      "4  Img/img001-005.png     0\n"
     ]
    }
   ],
   "source": [
    "# ***MY CODE***\n",
    "df = pd.read_csv(DATASET_PATH)\n",
    "print(df.head())\n"
   ]
  },
  {
   "cell_type": "code",
   "execution_count": 119,
   "metadata": {},
   "outputs": [
    {
     "data": {
      "text/plain": [
       "0    55\n",
       "k    55\n",
       "X    55\n",
       "Y    55\n",
       "Z    55\n",
       "     ..\n",
       "P    55\n",
       "Q    55\n",
       "R    55\n",
       "S    55\n",
       "z    55\n",
       "Name: label, Length: 62, dtype: int64"
      ]
     },
     "execution_count": 119,
     "metadata": {},
     "output_type": "execute_result"
    }
   ],
   "source": [
    "# ***MY CODE***\n",
    "df[\"label\"].value_counts()"
   ]
  },
  {
   "cell_type": "code",
   "execution_count": null,
   "metadata": {},
   "outputs": [],
   "source": [
    "# ***MY CODE***\n",
    "if PRINT_EXAMPLES:\n",
    "    display(Image.open(f'{BASE_IMAGE_PATH}{df[\"image\"][0]}'))\n",
    "    display(Image.open(f'{BASE_IMAGE_PATH}{df[\"image\"][550]}'))\n",
    "    display(Image.open(f'{BASE_IMAGE_PATH}{df[\"image\"][1980]}'))"
   ]
  },
  {
   "cell_type": "code",
   "execution_count": null,
   "metadata": {},
   "outputs": [],
   "source": []
  }
 ],
 "metadata": {
  "kernelspec": {
   "display_name": "Python 3",
   "language": "python",
   "name": "python3"
  },
  "language_info": {
   "codemirror_mode": {
    "name": "ipython",
    "version": 3
   },
   "file_extension": ".py",
   "mimetype": "text/x-python",
   "name": "python",
   "nbconvert_exporter": "python",
   "pygments_lexer": "ipython3",
   "version": "3.11.2"
  }
 },
 "nbformat": 4,
 "nbformat_minor": 2
}
